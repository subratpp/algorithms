{
 "cells": [
  {
   "cell_type": "markdown",
   "metadata": {},
   "source": [
    "## 0. Enter File Name:"
   ]
  },
  {
   "cell_type": "code",
   "execution_count": 31,
   "metadata": {},
   "outputs": [],
   "source": [
    "filename = \"i2.txt\""
   ]
  },
  {
   "cell_type": "markdown",
   "metadata": {},
   "source": [
    "## 1. Read File"
   ]
  },
  {
   "cell_type": "code",
   "execution_count": 32,
   "metadata": {},
   "outputs": [
    {
     "name": "stdout",
     "output_type": "stream",
     "text": [
      "['5 1', '2 3', '1 4', '1 5', '2', '3', '']\n"
     ]
    }
   ],
   "source": [
    "with open(filename) as f:\n",
    "    raw_data = f.read().splitlines()\n",
    "print(raw_data)"
   ]
  },
  {
   "cell_type": "markdown",
   "metadata": {},
   "source": [
    "## 2. Create Adjacency List from (raw_data)"
   ]
  },
  {
   "cell_type": "code",
   "execution_count": 33,
   "metadata": {},
   "outputs": [
    {
     "name": "stdout",
     "output_type": "stream",
     "text": [
      "{1: [2, 3], 2: [1, 4], 3: [1, 5], 4: [2], 5: [3]}\n"
     ]
    }
   ],
   "source": [
    "# First line contains {number of vertex} and {starting vertix}\n",
    "temp = list(map(int, raw_data[0].split(\" \")))\n",
    "num_vertex = temp[0]\n",
    "\n",
    "\n",
    "# Rest vertex inserted into dictionary\n",
    "adj_list = {}\n",
    "for i in range(1, num_vertex + 1):\n",
    "    if len(raw_data[i]):\n",
    "        temp = list(map(int, raw_data[i].split(\" \")))\n",
    "        adj_list[i] = temp\n",
    "    else:\n",
    "        adj_list[i] = []\n",
    "        \n",
    "print(adj_list)\n",
    "check_list = adj_list.copy()\n",
    "visited = [False] * num_vertex"
   ]
  },
  {
   "cell_type": "markdown",
   "metadata": {},
   "source": [
    "## 3. Detecting Cycle"
   ]
  },
  {
   "cell_type": "code",
   "execution_count": 34,
   "metadata": {},
   "outputs": [
    {
     "name": "stdout",
     "output_type": "stream",
     "text": [
      "Cycle: No\n"
     ]
    }
   ],
   "source": [
    "while check_list:\n",
    "    start_vertex = list(check_list.keys())[0] \n",
    "    child_parent = {start_vertex: 0} # {child:parent} and parent = 0 for root\n",
    "    q = [start_vertex] # queue for storing vertices\n",
    "    visited[start_vertex-1] = True\n",
    "    flag = False\n",
    "    node1 = 0\n",
    "    node2 = 0\n",
    "    while q:\n",
    "        v = q.pop(0)\n",
    "        del check_list[v]\n",
    "        for vertex in adj_list[v]:\n",
    "            if not visited[vertex-1]:\n",
    "                q.append(vertex)\n",
    "                visited[vertex-1] = True\n",
    "                child_parent[vertex] = v\n",
    "\n",
    "            else:\n",
    "                # Cycle is present and (node1,node1) are part of it\n",
    "                if child_parent[v] is not vertex:\n",
    "                    node1 = v\n",
    "                    node2 = vertex\n",
    "                    flag = True\n",
    "                    print(\"Cycle: Yes\")\n",
    "                    q = [] # To break while loop\n",
    "                    check_list = {}\n",
    "                    break # break for loop\n",
    "\n",
    "if not flag:\n",
    "    print(\"Cycle: No\")"
   ]
  },
  {
   "cell_type": "markdown",
   "metadata": {},
   "source": [
    "## 4. Printing Cycle Path"
   ]
  },
  {
   "cell_type": "code",
   "execution_count": 35,
   "metadata": {},
   "outputs": [
    {
     "name": "stdout",
     "output_type": "stream",
     "text": [
      "No Cycle Path\n"
     ]
    }
   ],
   "source": [
    "if flag:    \n",
    "    path1 = []\n",
    "    path2 = []\n",
    "\n",
    "    # Detect Path till root node in BFS tree\n",
    "    while node1 or node2:\n",
    "        if node1:\n",
    "            path1.append(node1)\n",
    "            node1 = child_parent[node1]\n",
    "        if node2:\n",
    "            path2.append(node2)\n",
    "            node2 = child_parent[node2]\n",
    "\n",
    "    # print(path1)    \n",
    "    # print(path2)\n",
    "\n",
    "    # Find intersection of paths\n",
    "    common_parent = list(set(path1).intersection(path2))[0]\n",
    "    # print(\"Common Parent: %d\" %common_parent)\n",
    "    p1_index = path1.index(common_parent)\n",
    "    p2_index = path2.index(common_parent)\n",
    "\n",
    "    # Find the path till common parent\n",
    "    path1 = path1[:p1_index]\n",
    "    path2 = path2[p2_index::-1] # Reverse the entries for final output\n",
    "\n",
    "    # Merge the paths to common parent\n",
    "    path1.extend(path2)\n",
    "    print(\"Cycle Path:\")\n",
    "    print(path1)\n",
    "else:\n",
    "    print(\"No Cycle Path\")"
   ]
  }
 ],
 "metadata": {
  "kernelspec": {
   "display_name": "Python 3",
   "language": "python",
   "name": "python3"
  },
  "language_info": {
   "codemirror_mode": {
    "name": "ipython",
    "version": 3
   },
   "file_extension": ".py",
   "mimetype": "text/x-python",
   "name": "python",
   "nbconvert_exporter": "python",
   "pygments_lexer": "ipython3",
   "version": "3.7.4"
  }
 },
 "nbformat": 4,
 "nbformat_minor": 2
}
