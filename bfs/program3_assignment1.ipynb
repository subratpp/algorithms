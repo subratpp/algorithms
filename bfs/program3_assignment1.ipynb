{
 "cells": [
  {
   "cell_type": "markdown",
   "metadata": {},
   "source": [
    "## 0. Enter File Name:"
   ]
  },
  {
   "cell_type": "code",
   "execution_count": 16,
   "metadata": {},
   "outputs": [],
   "source": [
    "filename = \"i1.txt\""
   ]
  },
  {
   "cell_type": "markdown",
   "metadata": {},
   "source": [
    "## 1. Read File"
   ]
  },
  {
   "cell_type": "code",
   "execution_count": 13,
   "metadata": {},
   "outputs": [
    {
     "name": "stdout",
     "output_type": "stream",
     "text": [
      "['7 1', '2 3', '1 4 5', '1 6', '2 7', '2 6', '3 7', '4 6', '']\n"
     ]
    }
   ],
   "source": [
    "with open(filename) as f:\n",
    "    raw_data = f.read().splitlines()\n",
    "print(raw_data)"
   ]
  },
  {
   "cell_type": "markdown",
   "metadata": {},
   "source": [
    "## 2. Create Adjacency List from (raw_data)"
   ]
  },
  {
   "cell_type": "code",
   "execution_count": 14,
   "metadata": {},
   "outputs": [
    {
     "name": "stdout",
     "output_type": "stream",
     "text": [
      "{1: [2, 3], 2: [1, 4, 5], 3: [1, 6], 4: [2, 7], 5: [2, 6], 6: [3, 7], 7: [4, 6]}\n"
     ]
    }
   ],
   "source": [
    "# First line contains {number of vertex} and {starting vertix}\n",
    "temp = list(map(int, raw_data[0].split(\" \")))\n",
    "num_vertex = temp[0]\n",
    "\n",
    "\n",
    "# Rest vertex inserted into dictionary\n",
    "adj_list = {}\n",
    "for i in range(1, num_vertex + 1):\n",
    "    if len(raw_data[i]):\n",
    "        temp = list(map(int, raw_data[i].split(\" \")))\n",
    "        adj_list[i] = temp\n",
    "    else:\n",
    "        adj_list[i] = []\n",
    "        \n",
    "check_list = adj_list.copy()\n",
    "visited = [False] * num_vertex\n",
    "print(check_list)"
   ]
  },
  {
   "cell_type": "markdown",
   "metadata": {},
   "source": [
    "## 3. Bipartite"
   ]
  },
  {
   "cell_type": "code",
   "execution_count": 15,
   "metadata": {},
   "outputs": [
    {
     "name": "stdout",
     "output_type": "stream",
     "text": [
      "Not Bipartite\n"
     ]
    }
   ],
   "source": [
    "flag = True\n",
    "while check_list:\n",
    "    start_vertex = list(check_list.keys())[0]\n",
    "    q = [start_vertex, 0] # queue for storing vertices\n",
    "    visited[start_vertex-1] = True\n",
    "    # Color using red and black\n",
    "    red = [start_vertex]\n",
    "    black = []\n",
    "    flag = True\n",
    "\n",
    "    while q:\n",
    "        v = q.pop(0)\n",
    "        if v:\n",
    "            del check_list[v]\n",
    "        if v:\n",
    "            if flag:\n",
    "                black.extend(adj_list[v])\n",
    "            else:\n",
    "                red.extend(adj_list[v])\n",
    "            if len(list(set(red) & set(black))):\n",
    "                print(\"Not Bipartite\")\n",
    "                flag = False\n",
    "                q = []\n",
    "                check_list = {}\n",
    "                break\n",
    "            for vertex in adj_list[v]:\n",
    "                if not visited[vertex-1]:\n",
    "                    q.append(vertex)\n",
    "                    visited[vertex-1] = True\n",
    "\n",
    "        else:\n",
    "            if len(q):\n",
    "                q.append(0)\n",
    "                flag = not flag\n",
    "if flag:\n",
    "    print(\"Yes, Bipartite\")\n",
    "#print(red)\n",
    "#print(black)\n",
    "#print(check_list)"
   ]
  }
 ],
 "metadata": {
  "kernelspec": {
   "display_name": "Python 3",
   "language": "python",
   "name": "python3"
  },
  "language_info": {
   "codemirror_mode": {
    "name": "ipython",
    "version": 3
   },
   "file_extension": ".py",
   "mimetype": "text/x-python",
   "name": "python",
   "nbconvert_exporter": "python",
   "pygments_lexer": "ipython3",
   "version": "3.7.4"
  }
 },
 "nbformat": 4,
 "nbformat_minor": 2
}
