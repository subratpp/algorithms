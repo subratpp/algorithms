{
 "cells": [
  {
   "cell_type": "markdown",
   "metadata": {},
   "source": [
    "## 0. Enter File Name:"
   ]
  },
  {
   "cell_type": "code",
   "execution_count": 27,
   "metadata": {},
   "outputs": [],
   "source": [
    "filename = \"i2.txt\""
   ]
  },
  {
   "cell_type": "markdown",
   "metadata": {},
   "source": [
    "## 1. Read File"
   ]
  },
  {
   "cell_type": "code",
   "execution_count": 28,
   "metadata": {},
   "outputs": [
    {
     "name": "stdout",
     "output_type": "stream",
     "text": [
      "['5 1', '2 3', '1 4', '1 5', '2', '3', '']\n"
     ]
    }
   ],
   "source": [
    "with open(filename) as f:\n",
    "    raw_data = f.read().splitlines()\n",
    "print(raw_data)"
   ]
  },
  {
   "cell_type": "markdown",
   "metadata": {},
   "source": [
    "## 2. Create Adjacency List from (raw_data)"
   ]
  },
  {
   "cell_type": "code",
   "execution_count": 29,
   "metadata": {},
   "outputs": [
    {
     "name": "stdout",
     "output_type": "stream",
     "text": [
      "{1: [2, 3], 2: [1, 4], 3: [1, 5], 4: [2], 5: [3]}\n"
     ]
    }
   ],
   "source": [
    "# First line contains {number of vertex} and {starting vertix}\n",
    "temp = list(map(int, raw_data[0].split(\" \")))\n",
    "num_vertex = temp[0]\n",
    "start_vertex = temp[1]\n",
    "# Rest vertex inserted into dictionary\n",
    "adj_list = {}\n",
    "for i in range(1, num_vertex + 1):\n",
    "    if len(raw_data[i]):\n",
    "        temp = list(map(int, raw_data[i].split(\" \")))\n",
    "        adj_list[i] = temp\n",
    "    else:\n",
    "        adj_list[i] = []\n",
    "        \n",
    "print(adj_list)\n",
    "visited = [False] * num_vertex\n",
    "check_list = adj_list.copy()"
   ]
  },
  {
   "cell_type": "markdown",
   "metadata": {},
   "source": [
    "## 3. BFS Algorithm"
   ]
  },
  {
   "cell_type": "code",
   "execution_count": 30,
   "metadata": {},
   "outputs": [
    {
     "name": "stdout",
     "output_type": "stream",
     "text": [
      "BFS: \n",
      "1 2 3 4 5 \n",
      "----\n"
     ]
    }
   ],
   "source": [
    "print(\"BFS: \")\n",
    "while check_list:\n",
    "    q = [start_vertex] # queue for storing vertices\n",
    "    visited[start_vertex-1] = True\n",
    "    while q:\n",
    "        v = q.pop(0)\n",
    "        if v:\n",
    "            del check_list[v]\n",
    "        print(v, end = \" \")\n",
    "        for vertex in adj_list[v]:\n",
    "            if not visited[vertex-1]:\n",
    "                q.append(vertex)\n",
    "                visited[vertex-1] = True\n",
    "    print(\"\\n----\")\n",
    "    if check_list:\n",
    "        start_vertex = list(check_list.keys())[0] "
   ]
  }
 ],
 "metadata": {
  "kernelspec": {
   "display_name": "Python 3",
   "language": "python",
   "name": "python3"
  },
  "language_info": {
   "codemirror_mode": {
    "name": "ipython",
    "version": 3
   },
   "file_extension": ".py",
   "mimetype": "text/x-python",
   "name": "python",
   "nbconvert_exporter": "python",
   "pygments_lexer": "ipython3",
   "version": "3.7.4"
  }
 },
 "nbformat": 4,
 "nbformat_minor": 2
}
